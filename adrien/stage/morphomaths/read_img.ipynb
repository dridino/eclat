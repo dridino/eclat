{
 "cells": [
  {
   "cell_type": "code",
   "execution_count": 2,
   "metadata": {},
   "outputs": [],
   "source": [
    "import matplotlib.pyplot as plt\n",
    "import numpy as np"
   ]
  },
  {
   "cell_type": "code",
   "execution_count": 9,
   "metadata": {},
   "outputs": [
    {
     "data": {
      "image/png": "[encoded data removed]",
      "text/plain": [
       "<Figure size 640x480 with 1 Axes>"
      ]
     },
     "metadata": {},
     "output_type": "display_data"
    }
   ],
   "source": [
    "plt.imshow(np.array([[0,0,0,0,0,0,0,0],\n",
    "                     [0,0,0,1,1,0,0,0],\n",
    "                     [0,0,1,1,1,1,0,0],\n",
    "                     [0,1,1,1,1,1,1,0],\n",
    "                     [0,1,1,1,1,1,1,0],\n",
    "                     [0,0,1,1,1,1,0,0],\n",
    "                     [0,0,0,1,1,0,0,0],\n",
    "                     [0,0,0,0,0,0,0,0]]))\n",
    "\n",
    "with open(\"output/gradient_morph.txt\", \"r\") as f:\n",
    "    img = []\n",
    "    l = f.readlines()\n",
    "    for l in l:\n",
    "        l = l[:len(l) - 1].split(\",\")\n",
    "        n = int(len(l)/3)\n",
    "        img += [[int(l[i*3]) for i in range(n)]]\n",
    "    plt.imshow(np.array(img))"
   ]
  },
  {
   "cell_type": "code",
   "execution_count": 3,
   "metadata": {},
   "outputs": [
    {
     "data": {
      "text/plain": [
       "0"
      ]
     },
     "execution_count": 3,
     "metadata": {},
     "output_type": "execute_result"
    }
   ],
   "source": []
  },
  {
   "cell_type": "code",
   "execution_count": null,
   "metadata": {},
   "outputs": [],
   "source": []
  }
 ],
 "metadata": {
  "kernelspec": {
   "display_name": "Python 3",
   "language": "python",
   "name": "python3"
  },
  "language_info": {
   "codemirror_mode": {
    "name": "ipython",
    "version": 3
   },
   "file_extension": ".py",
   "mimetype": "text/x-python",
   "name": "python",
   "nbconvert_exporter": "python",
   "pygments_lexer": "ipython3",
   "version": "3.10.12"
  }
 },
 "nbformat": 4,
 "nbformat_minor": 2
}
